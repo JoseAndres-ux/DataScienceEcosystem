{
 "cells": [
  {
   "cell_type": "markdown",
   "id": "eec59f63-237e-402b-a87a-b053055dd0a6",
   "metadata": {},
   "source": [
    "# Data Science Tools Ecosystem\n",
    "In this notebook, Data Science Tools and Ecosystem are summarized."
   ]
  },
  {
   "cell_type": "markdown",
   "id": "3d40e371-e569-49a0-a9fb-56ea0b1c6887",
   "metadata": {},
   "source": [
    "**Objectives:**\n",
    "\n",
    "- List popular languages for Data Science.\n",
    "- Introduce data science tools and ecosystems.\n",
    "- Demonstrate arithmetic operations in Python.\n",
    "- Convert minutes to hours using Python.\n",
    "\n",
    "Author\n",
    "## Jose Andres Torres Maldonado"
   ]
  },
  {
   "cell_type": "markdown",
   "id": "3449952b-21d4-4400-a192-fe0c25dffda4",
   "metadata": {},
   "source": [
    "Some of the popular languages that Data Scientists use are:\n",
    "1. Python\n",
    "2. R\n",
    "3. SQL\n",
    "\n",
    "Some of the commonly used libraries used by Data Scientists include:\n",
    "1.Panda\n",
    "2.Numpy\n",
    "3.Matplotlib"
   ]
  },
  {
   "cell_type": "markdown",
   "id": "c70e46d2-9743-4b02-8727-d1031a5f04dc",
   "metadata": {},
   "source": [
    "| Data Science Tools     |\n",
    "|------------------------|\n",
    "| Jupyter Notebook        |\n",
    "| RStudio                 |\n",
    "| Apache Zeppelin         |\n",
    "\n",
    "### Below are a few examples of evaluating arithmetic expressions in Python"
   ]
  },
  {
   "cell_type": "markdown",
   "id": "796d8eae-2ae0-497e-90a5-0dc73e37f19a",
   "metadata": {},
   "source": [
    "This a simple arithmetic expression to mutiply then add integers. "
   ]
  },
  {
   "cell_type": "code",
   "execution_count": 14,
   "id": "3a8deaa6-0af9-48b7-9e52-e7144317e3c8",
   "metadata": {},
   "outputs": [
    {
     "data": {
      "text/plain": [
       "17"
      ]
     },
     "execution_count": 14,
     "metadata": {},
     "output_type": "execute_result"
    }
   ],
   "source": [
    "(3*4)+5\n"
   ]
  },
  {
   "cell_type": "code",
   "execution_count": 17,
   "id": "79116d8f-d326-4d68-83c3-4f033dfb69d8",
   "metadata": {},
   "outputs": [
    {
     "data": {
      "text/plain": [
       "3.3333333333333335"
      ]
     },
     "execution_count": 17,
     "metadata": {},
     "output_type": "execute_result"
    }
   ],
   "source": [
    "# This will convert 200 minutes to hours by dividing by 60\n",
    "minutes = 200\n",
    "hours = minutes / 60\n",
    "hours\n"
   ]
  },
  {
   "cell_type": "code",
   "execution_count": null,
   "id": "766f3b6f-163a-4ee4-98e8-9f55c8bbfde6",
   "metadata": {},
   "outputs": [],
   "source": []
  }
 ],
 "metadata": {
  "kernelspec": {
   "display_name": "Python 3 (ipykernel)",
   "language": "python",
   "name": "python3"
  },
  "language_info": {
   "codemirror_mode": {
    "name": "ipython",
    "version": 3
   },
   "file_extension": ".py",
   "mimetype": "text/x-python",
   "name": "python",
   "nbconvert_exporter": "python",
   "pygments_lexer": "ipython3",
   "version": "3.12.4"
  }
 },
 "nbformat": 4,
 "nbformat_minor": 5
}
